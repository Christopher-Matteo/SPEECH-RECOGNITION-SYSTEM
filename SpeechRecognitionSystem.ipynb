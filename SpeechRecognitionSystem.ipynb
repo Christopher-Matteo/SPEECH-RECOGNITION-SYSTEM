pip install SpeechRecognition pyaudio
!pip install pipwin
!pipwin install pyaudio
!pip install speechrecognition
from google.colab import files
uploaded = files.upload()
import speech_recognition as sr

recognizer = sr.Recognizer()

# Replace 'your_audio_file.wav' with the actual uploaded file name
with sr.AudioFile("harvard.wav") as source:
    print("🔊 Reading audio...")
    audio = recognizer.record(source)

try:
    print("🧠 Recognizing speech...")
    text = recognizer.recognize_google(audio)
    print("📝 Transcribed Text:", text)
except sr.UnknownValueError:
    print("⚠️ Could not understand audio.")
except sr.RequestError as e:
    print(f"🚫 Could not request results; {e}")
